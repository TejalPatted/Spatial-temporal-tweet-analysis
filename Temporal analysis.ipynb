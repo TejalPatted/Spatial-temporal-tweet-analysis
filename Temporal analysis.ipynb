{
 "cells": [
  {
   "cell_type": "code",
   "execution_count": 1,
   "metadata": {
    "collapsed": true
   },
   "outputs": [],
   "source": [
    "import pandas as pd"
   ]
  },
  {
   "cell_type": "code",
   "execution_count": 2,
   "metadata": {
    "collapsed": true
   },
   "outputs": [],
   "source": [
    "import matplotlib.pyplot as plt"
   ]
  },
  {
   "cell_type": "code",
   "execution_count": 3,
   "metadata": {
    "collapsed": true
   },
   "outputs": [],
   "source": [
    "data = pd.read_csv(r'C:\\Users\\Tejal\\Documents\\Tejal\\College\\SSCI580\\Project\\Sentiment analysis\\full_us_senti.csv',sep=',')"
   ]
  },
  {
   "cell_type": "code",
   "execution_count": 4,
   "metadata": {},
   "outputs": [
    {
     "data": {
      "text/plain": [
       "dtype('O')"
      ]
     },
     "execution_count": 4,
     "metadata": {},
     "output_type": "execute_result"
    }
   ],
   "source": [
    "data['Date'].dtype"
   ]
  },
  {
   "cell_type": "code",
   "execution_count": 5,
   "metadata": {
    "collapsed": true
   },
   "outputs": [],
   "source": [
    "data['Date'] = pd.to_datetime(data['Date'])"
   ]
  },
  {
   "cell_type": "code",
   "execution_count": 6,
   "metadata": {},
   "outputs": [
    {
     "data": {
      "text/html": [
       "<div>\n",
       "<style>\n",
       "    .dataframe thead tr:only-child th {\n",
       "        text-align: right;\n",
       "    }\n",
       "\n",
       "    .dataframe thead th {\n",
       "        text-align: left;\n",
       "    }\n",
       "\n",
       "    .dataframe tbody tr th {\n",
       "        vertical-align: top;\n",
       "    }\n",
       "</style>\n",
       "<table border=\"1\" class=\"dataframe\">\n",
       "  <thead>\n",
       "    <tr style=\"text-align: right;\">\n",
       "      <th></th>\n",
       "      <th>Unnamed: 0</th>\n",
       "      <th>Date</th>\n",
       "      <th>Hour</th>\n",
       "      <th>Tweet content</th>\n",
       "      <th>Latitude</th>\n",
       "      <th>Longitude</th>\n",
       "      <th>Senti</th>\n",
       "    </tr>\n",
       "  </thead>\n",
       "  <tbody>\n",
       "    <tr>\n",
       "      <th>0</th>\n",
       "      <td>0</td>\n",
       "      <td>2016-04-16</td>\n",
       "      <td>12:44</td>\n",
       "      <td>Wind 3.2 mph NNE. Barometer 30.20 in, Rising s...</td>\n",
       "      <td>40.760278</td>\n",
       "      <td>-72.954722</td>\n",
       "      <td>0</td>\n",
       "    </tr>\n",
       "    <tr>\n",
       "      <th>1</th>\n",
       "      <td>1</td>\n",
       "      <td>2016-04-16</td>\n",
       "      <td>12:44</td>\n",
       "      <td>Good. Morning. #morning #Saturday #diner #VT #...</td>\n",
       "      <td>44.199476</td>\n",
       "      <td>-72.504173</td>\n",
       "      <td>4</td>\n",
       "    </tr>\n",
       "    <tr>\n",
       "      <th>2</th>\n",
       "      <td>2</td>\n",
       "      <td>2016-04-16</td>\n",
       "      <td>12:44</td>\n",
       "      <td>recordstoredayus ?????? @ TOMS MUSIC TRADE</td>\n",
       "      <td>39.901474</td>\n",
       "      <td>-76.606817</td>\n",
       "      <td>4</td>\n",
       "    </tr>\n",
       "    <tr>\n",
       "      <th>3</th>\n",
       "      <td>3</td>\n",
       "      <td>2016-04-16</td>\n",
       "      <td>12:44</td>\n",
       "      <td>Egg in a muffin!!! (@ Rocket Baby Bakery - @ro...</td>\n",
       "      <td>43.060849</td>\n",
       "      <td>-87.998309</td>\n",
       "      <td>4</td>\n",
       "    </tr>\n",
       "    <tr>\n",
       "      <th>4</th>\n",
       "      <td>4</td>\n",
       "      <td>2016-04-16</td>\n",
       "      <td>12:44</td>\n",
       "      <td>should've gave the neighbor  a buzz. Iv got i...</td>\n",
       "      <td>36.041913</td>\n",
       "      <td>-75.681862</td>\n",
       "      <td>4</td>\n",
       "    </tr>\n",
       "  </tbody>\n",
       "</table>\n",
       "</div>"
      ],
      "text/plain": [
       "   Unnamed: 0       Date   Hour  \\\n",
       "0           0 2016-04-16  12:44   \n",
       "1           1 2016-04-16  12:44   \n",
       "2           2 2016-04-16  12:44   \n",
       "3           3 2016-04-16  12:44   \n",
       "4           4 2016-04-16  12:44   \n",
       "\n",
       "                                       Tweet content   Latitude  Longitude  \\\n",
       "0  Wind 3.2 mph NNE. Barometer 30.20 in, Rising s...  40.760278 -72.954722   \n",
       "1  Good. Morning. #morning #Saturday #diner #VT #...  44.199476 -72.504173   \n",
       "2        recordstoredayus ?????? @ TOMS MUSIC TRADE   39.901474 -76.606817   \n",
       "3  Egg in a muffin!!! (@ Rocket Baby Bakery - @ro...  43.060849 -87.998309   \n",
       "4   should've gave the neighbor  a buzz. Iv got i...  36.041913 -75.681862   \n",
       "\n",
       "   Senti  \n",
       "0      0  \n",
       "1      4  \n",
       "2      4  \n",
       "3      4  \n",
       "4      4  "
      ]
     },
     "execution_count": 6,
     "metadata": {},
     "output_type": "execute_result"
    }
   ],
   "source": [
    "data.head()"
   ]
  },
  {
   "cell_type": "code",
   "execution_count": 7,
   "metadata": {
    "collapsed": true
   },
   "outputs": [],
   "source": [
    "data = data.rename(columns={'Hour': 'Time'})"
   ]
  },
  {
   "cell_type": "code",
   "execution_count": 8,
   "metadata": {
    "collapsed": true
   },
   "outputs": [],
   "source": [
    "data['Hour'] = pd.to_datetime(data['Time'], format='%H:%M').dt.hour"
   ]
  },
  {
   "cell_type": "code",
   "execution_count": 9,
   "metadata": {
    "collapsed": true
   },
   "outputs": [],
   "source": [
    "tempo_data = data.groupby(['Date','Hour','Senti']).size()"
   ]
  },
  {
   "cell_type": "code",
   "execution_count": 10,
   "metadata": {
    "collapsed": true
   },
   "outputs": [],
   "source": [
    "tempo_data=tempo_data.to_frame().reset_index()"
   ]
  },
  {
   "cell_type": "code",
   "execution_count": 11,
   "metadata": {},
   "outputs": [
    {
     "data": {
      "text/plain": [
       "[RangeIndex(start=0, stop=100, step=1),\n",
       " Index([u'Date', u'Hour', u'Senti', 0], dtype='object')]"
      ]
     },
     "execution_count": 11,
     "metadata": {},
     "output_type": "execute_result"
    }
   ],
   "source": [
    "tempo_data.axes"
   ]
  },
  {
   "cell_type": "code",
   "execution_count": 12,
   "metadata": {
    "collapsed": true
   },
   "outputs": [],
   "source": [
    "df1 = pd.DataFrame(tempo_data[tempo_data['Senti']== 0])\n",
    "df2 = pd.DataFrame(tempo_data[tempo_data['Senti']== 4])"
   ]
  },
  {
   "cell_type": "code",
   "execution_count": 17,
   "metadata": {
    "collapsed": true
   },
   "outputs": [],
   "source": [
    "djoined = df1.merge(df2,on=['Date','Hour'])"
   ]
  },
  {
   "cell_type": "code",
   "execution_count": 18,
   "metadata": {
    "collapsed": true
   },
   "outputs": [],
   "source": [
    "djoined = djoined.rename(columns={'Senti_x': 'Neg_senti','0_x':'Neg_count','Senti_y':'Pos_senti','0_y':'Pos_count'})"
   ]
  },
  {
   "cell_type": "code",
   "execution_count": 22,
   "metadata": {},
   "outputs": [],
   "source": [
    "djoined['Total']=djoined['Neg_count']+djoined['Pos_count']"
   ]
  },
  {
   "cell_type": "code",
   "execution_count": 23,
   "metadata": {},
   "outputs": [],
   "source": [
    "djoined['Total']=djoined['Total'].astype(float)"
   ]
  },
  {
   "cell_type": "code",
   "execution_count": 24,
   "metadata": {
    "collapsed": true
   },
   "outputs": [],
   "source": [
    "djoined['Date']=djoined['Date'].astype(str)"
   ]
  },
  {
   "cell_type": "code",
   "execution_count": 25,
   "metadata": {
    "collapsed": true
   },
   "outputs": [],
   "source": [
    "djoined['Prop_neg']=djoined['Neg_count']/djoined['Total']*100"
   ]
  },
  {
   "cell_type": "code",
   "execution_count": 42,
   "metadata": {
    "collapsed": true
   },
   "outputs": [],
   "source": [
    "df1 = djoined[djoined['Date'] == '2016-04-14']"
   ]
  },
  {
   "cell_type": "code",
   "execution_count": 28,
   "metadata": {
    "collapsed": true
   },
   "outputs": [],
   "source": [
    "df1.to_csv(r'C:\\Users\\Tejal\\Documents\\Tejal\\College\\SSCI580\\Project\\Sentiment analysis\\sent_2016_04_14.csv',sep=',')"
   ]
  },
  {
   "cell_type": "code",
   "execution_count": 31,
   "metadata": {},
   "outputs": [
    {
     "data": {
      "text/html": [
       "<div>\n",
       "<style>\n",
       "    .dataframe thead tr:only-child th {\n",
       "        text-align: right;\n",
       "    }\n",
       "\n",
       "    .dataframe thead th {\n",
       "        text-align: left;\n",
       "    }\n",
       "\n",
       "    .dataframe tbody tr th {\n",
       "        vertical-align: top;\n",
       "    }\n",
       "</style>\n",
       "<table border=\"1\" class=\"dataframe\">\n",
       "  <thead>\n",
       "    <tr style=\"text-align: right;\">\n",
       "      <th></th>\n",
       "      <th>Date</th>\n",
       "      <th>Hour</th>\n",
       "      <th>Neg_senti</th>\n",
       "      <th>Neg_count</th>\n",
       "      <th>Pos_senti</th>\n",
       "      <th>Pos_count</th>\n",
       "      <th>Total</th>\n",
       "      <th>Prop_neg</th>\n",
       "    </tr>\n",
       "  </thead>\n",
       "  <tbody>\n",
       "    <tr>\n",
       "      <th>0</th>\n",
       "      <td>2016-04-14</td>\n",
       "      <td>10</td>\n",
       "      <td>0</td>\n",
       "      <td>247</td>\n",
       "      <td>4</td>\n",
       "      <td>1870</td>\n",
       "      <td>2117.0</td>\n",
       "      <td>11.667454</td>\n",
       "    </tr>\n",
       "    <tr>\n",
       "      <th>1</th>\n",
       "      <td>2016-04-14</td>\n",
       "      <td>11</td>\n",
       "      <td>0</td>\n",
       "      <td>65</td>\n",
       "      <td>4</td>\n",
       "      <td>360</td>\n",
       "      <td>425.0</td>\n",
       "      <td>15.294118</td>\n",
       "    </tr>\n",
       "    <tr>\n",
       "      <th>2</th>\n",
       "      <td>2016-04-14</td>\n",
       "      <td>12</td>\n",
       "      <td>0</td>\n",
       "      <td>182</td>\n",
       "      <td>4</td>\n",
       "      <td>2408</td>\n",
       "      <td>2590.0</td>\n",
       "      <td>7.027027</td>\n",
       "    </tr>\n",
       "    <tr>\n",
       "      <th>3</th>\n",
       "      <td>2016-04-14</td>\n",
       "      <td>13</td>\n",
       "      <td>0</td>\n",
       "      <td>183</td>\n",
       "      <td>4</td>\n",
       "      <td>2397</td>\n",
       "      <td>2580.0</td>\n",
       "      <td>7.093023</td>\n",
       "    </tr>\n",
       "    <tr>\n",
       "      <th>4</th>\n",
       "      <td>2016-04-14</td>\n",
       "      <td>14</td>\n",
       "      <td>0</td>\n",
       "      <td>85</td>\n",
       "      <td>4</td>\n",
       "      <td>1206</td>\n",
       "      <td>1291.0</td>\n",
       "      <td>6.584043</td>\n",
       "    </tr>\n",
       "    <tr>\n",
       "      <th>5</th>\n",
       "      <td>2016-04-14</td>\n",
       "      <td>15</td>\n",
       "      <td>0</td>\n",
       "      <td>165</td>\n",
       "      <td>4</td>\n",
       "      <td>2442</td>\n",
       "      <td>2607.0</td>\n",
       "      <td>6.329114</td>\n",
       "    </tr>\n",
       "    <tr>\n",
       "      <th>6</th>\n",
       "      <td>2016-04-14</td>\n",
       "      <td>16</td>\n",
       "      <td>0</td>\n",
       "      <td>400</td>\n",
       "      <td>4</td>\n",
       "      <td>6140</td>\n",
       "      <td>6540.0</td>\n",
       "      <td>6.116208</td>\n",
       "    </tr>\n",
       "    <tr>\n",
       "      <th>7</th>\n",
       "      <td>2016-04-14</td>\n",
       "      <td>17</td>\n",
       "      <td>0</td>\n",
       "      <td>558</td>\n",
       "      <td>4</td>\n",
       "      <td>7280</td>\n",
       "      <td>7838.0</td>\n",
       "      <td>7.119163</td>\n",
       "    </tr>\n",
       "    <tr>\n",
       "      <th>8</th>\n",
       "      <td>2016-04-14</td>\n",
       "      <td>18</td>\n",
       "      <td>0</td>\n",
       "      <td>240</td>\n",
       "      <td>4</td>\n",
       "      <td>3314</td>\n",
       "      <td>3554.0</td>\n",
       "      <td>6.752954</td>\n",
       "    </tr>\n",
       "    <tr>\n",
       "      <th>9</th>\n",
       "      <td>2016-04-14</td>\n",
       "      <td>19</td>\n",
       "      <td>0</td>\n",
       "      <td>69</td>\n",
       "      <td>4</td>\n",
       "      <td>434</td>\n",
       "      <td>503.0</td>\n",
       "      <td>13.717694</td>\n",
       "    </tr>\n",
       "    <tr>\n",
       "      <th>10</th>\n",
       "      <td>2016-04-14</td>\n",
       "      <td>20</td>\n",
       "      <td>0</td>\n",
       "      <td>698</td>\n",
       "      <td>4</td>\n",
       "      <td>9774</td>\n",
       "      <td>10472.0</td>\n",
       "      <td>6.665393</td>\n",
       "    </tr>\n",
       "    <tr>\n",
       "      <th>11</th>\n",
       "      <td>2016-04-14</td>\n",
       "      <td>21</td>\n",
       "      <td>0</td>\n",
       "      <td>98</td>\n",
       "      <td>4</td>\n",
       "      <td>1210</td>\n",
       "      <td>1308.0</td>\n",
       "      <td>7.492355</td>\n",
       "    </tr>\n",
       "    <tr>\n",
       "      <th>12</th>\n",
       "      <td>2016-04-14</td>\n",
       "      <td>22</td>\n",
       "      <td>0</td>\n",
       "      <td>274</td>\n",
       "      <td>4</td>\n",
       "      <td>3638</td>\n",
       "      <td>3912.0</td>\n",
       "      <td>7.004090</td>\n",
       "    </tr>\n",
       "  </tbody>\n",
       "</table>\n",
       "</div>"
      ],
      "text/plain": [
       "          Date  Hour  Neg_senti  Neg_count  Pos_senti  Pos_count    Total  \\\n",
       "0   2016-04-14    10          0        247          4       1870   2117.0   \n",
       "1   2016-04-14    11          0         65          4        360    425.0   \n",
       "2   2016-04-14    12          0        182          4       2408   2590.0   \n",
       "3   2016-04-14    13          0        183          4       2397   2580.0   \n",
       "4   2016-04-14    14          0         85          4       1206   1291.0   \n",
       "5   2016-04-14    15          0        165          4       2442   2607.0   \n",
       "6   2016-04-14    16          0        400          4       6140   6540.0   \n",
       "7   2016-04-14    17          0        558          4       7280   7838.0   \n",
       "8   2016-04-14    18          0        240          4       3314   3554.0   \n",
       "9   2016-04-14    19          0         69          4        434    503.0   \n",
       "10  2016-04-14    20          0        698          4       9774  10472.0   \n",
       "11  2016-04-14    21          0         98          4       1210   1308.0   \n",
       "12  2016-04-14    22          0        274          4       3638   3912.0   \n",
       "\n",
       "     Prop_neg  \n",
       "0   11.667454  \n",
       "1   15.294118  \n",
       "2    7.027027  \n",
       "3    7.093023  \n",
       "4    6.584043  \n",
       "5    6.329114  \n",
       "6    6.116208  \n",
       "7    7.119163  \n",
       "8    6.752954  \n",
       "9   13.717694  \n",
       "10   6.665393  \n",
       "11   7.492355  \n",
       "12   7.004090  "
      ]
     },
     "execution_count": 31,
     "metadata": {},
     "output_type": "execute_result"
    }
   ],
   "source": [
    "df1.head(13)"
   ]
  },
  {
   "cell_type": "code",
   "execution_count": null,
   "metadata": {
    "collapsed": true
   },
   "outputs": [],
   "source": [
    "djoined = djoined.rename(columns={'Senti_x': 'Neg_senti','0_x':'Neg_count','Senti_y':'Pos_senti','0_y':'Pos_count"
   ]
  },
  {
   "cell_type": "code",
   "execution_count": 43,
   "metadata": {
    "collapsed": true
   },
   "outputs": [],
   "source": [
    "df1=df1.rename(columns={'Prop_neg':'Neg tweet percent'})"
   ]
  },
  {
   "cell_type": "code",
   "execution_count": 44,
   "metadata": {},
   "outputs": [
    {
     "data": {
      "image/png": "[encoded data removed]",
      "text/plain": [
       "<matplotlib.figure.Figure at 0x131e8940>"
      ]
     },
     "metadata": {},
     "output_type": "display_data"
    }
   ],
   "source": [
    "df1.plot( kind='line', x='Hour', y='Neg tweet percent',title='% negative tweets on 04/14/2016, Thursday')\n",
    "axes = plt.gca()\n",
    "plt.show()\n"
   ]
  },
  {
   "cell_type": "code",
   "execution_count": 40,
   "metadata": {},
   "outputs": [
    {
     "data": {
      "image/png": "[encoded data removed]",
      "text/plain": [
       "<matplotlib.figure.Figure at 0x135d0198>"
      ]
     },
     "metadata": {},
     "output_type": "display_data"
    }
   ],
   "source": [
    "df1 = djoined[djoined['Date'] == '2016-04-15']\n",
    "df1=df1.rename(columns={'Prop_neg':'Neg tweet percent'})\n",
    "df1.plot( kind='line', x='Hour', y='Neg tweet percent',title='% negative tweets on 04/15/2016, Friday')\n",
    "axes = plt.gca()\n",
    "axes.set_ylim([0,20])\n",
    "plt.show()"
   ]
  },
  {
   "cell_type": "code",
   "execution_count": 45,
   "metadata": {},
   "outputs": [
    {
     "data": {
      "image/png": "[encoded data removed]",
      "text/plain": [
       "<matplotlib.figure.Figure at 0x138975f8>"
      ]
     },
     "metadata": {},
     "output_type": "display_data"
    }
   ],
   "source": [
    "df1 = djoined[djoined['Date'] == '2016-04-16']\n",
    "df1=df1.rename(columns={'Prop_neg':'Neg tweet percent'})\n",
    "df1.plot( kind='line', x='Hour', y='Neg tweet percent',title='% negative tweets on 04/16/2016, Saturday')\n",
    "axes = plt.gca()\n",
    "axes.set_ylim([0,20])\n",
    "plt.show()"
   ]
  },
  {
   "cell_type": "code",
   "execution_count": null,
   "metadata": {
    "collapsed": true
   },
   "outputs": [],
   "source": [
    "f, axarr = plt.subplots(2, 2)\n",
    "axarr[0, 0].plot(x, y)\n",
    "axarr[0, 0].set_title('Axis [0,0]')"
   ]
  }
 ],
 "metadata": {
  "kernelspec": {
   "display_name": "Python 2",
   "language": "python",
   "name": "python2"
  },
  "language_info": {
   "codemirror_mode": {
    "name": "ipython",
    "version": 2
   },
   "file_extension": ".py",
   "mimetype": "text/x-python",
   "name": "python",
   "nbconvert_exporter": "python",
   "pygments_lexer": "ipython2",
   "version": "2.7.14"
  }
 },
 "nbformat": 4,
 "nbformat_minor": 2
}
